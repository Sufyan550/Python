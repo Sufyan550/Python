{
 "cells": [
  {
   "cell_type": "markdown",
   "metadata": {},
   "source": [
    "# Indexing And Formating method"
   ]
  },
  {
   "cell_type": "code",
   "execution_count": 1,
   "metadata": {},
   "outputs": [
    {
     "name": "stdout",
     "output_type": "stream",
     "text": [
      "Ali is working in Google for 5 years and his salary is 125000\n"
     ]
    }
   ],
   "source": [
    "employee_data = [\"Ali\", 125000, \"Google\", 5]\n",
    "print(employee_data[0]+\" is working in \"+ employee_data[2]+ \" for \" +str(employee_data[3]) +\" years and his salary is \"+ str(employee_data[1]))"
   ]
  },
  {
   "cell_type": "code",
   "execution_count": 2,
   "metadata": {},
   "outputs": [
    {
     "name": "stdout",
     "output_type": "stream",
     "text": [
      "Hello Ahmed Bilal,\n",
      "Your application is accepted for admission in  BS Computer Science in Government College University.\n",
      "You have to submit fee50000 before 28 Januray 2020.\n",
      "Your classes will start from 05 February 2020,\n",
      "Thanks\n"
     ]
    }
   ],
   "source": [
    "studentData = [\"Ahmed\", \"Bilal\", \"Government College University\", \"Computer Science\", \"BS\", 50000,\"28 Januray 2020\", \"05 February 2020\"]\n",
    "msg = \"\"\"Hello {firstname} {lastname},\n",
    "Your application is accepted for admission in  {degree} {subject} in {uni}.\n",
    "You have to submit fee{fee} before {date1}.\n",
    "Your classes will start from {date2},\n",
    "Thanks\"\"\".format(firstname=studentData[0],lastname=studentData[1],degree=studentData[4],subject=studentData[3],uni=studentData[2],fee=studentData[5],date1=studentData[6],date2=studentData[7])\n",
    "print(msg)                                                      "
   ]
  },
  {
   "cell_type": "markdown",
   "metadata": {},
   "source": [
    "# Slicing"
   ]
  },
  {
   "cell_type": "code",
   "execution_count": 3,
   "metadata": {},
   "outputs": [
    {
     "name": "stdout",
     "output_type": "stream",
     "text": [
      "['Faisalabad', 'Lahore', 'Islamabad', 'Peshawar']\n",
      "['Islamabad', 'Peshawar', 'Quetta', 'Sahiwal']\n",
      "['Sahiwal', 'Rawalpindi', 'Sialkot']\n",
      "['Quetta', 'Sahiwal', 'Rawalpindi']\n",
      "['Peshawar', 'Quetta', 'Sahiwal', 'Rawalpindi', 'Sialkot']\n"
     ]
    },
    {
     "data": {
      "text/plain": [
       "['Islamabad', 'Sahiwal']"
      ]
     },
     "execution_count": 3,
     "metadata": {},
     "output_type": "execute_result"
    }
   ],
   "source": [
    "cities = [\"Faisalabad\", \"Lahore\", \"Islamabad\", \"Peshawar\", \"Quetta\", \"Sahiwal\", \"Rawalpindi\", \"Sialkot\"]\n",
    "print(cities[0:4])\n",
    "print(cities[2:6])\n",
    "print(cities[5:8])\n",
    "print(cities[-4:-1])\n",
    "print(cities[-5:])\n",
    "cities[-6:-1:3]\n"
   ]
  },
  {
   "cell_type": "markdown",
   "metadata": {},
   "source": [
    "# Update list"
   ]
  },
  {
   "cell_type": "code",
   "execution_count": 4,
   "metadata": {},
   "outputs": [
    {
     "name": "stdout",
     "output_type": "stream",
     "text": [
      "['Ali Raza', 22, 91.24, 'Computer Science', 5, 'University of Agriculture', '20 February 2019', 8]\n",
      "['Ali Raza', 'M.Iqbal', 22, 91.24, 'Computer Science', 25000, 5, 'University of Agriculture', '20 February 2019', 8]\n",
      "['Zohaib Ali', 'M.Iqbal', 22, 91.24, 'Computer Science', 25000, 7, 'University of Agriculture', '20 February 2019', 8]\n",
      "['Zohaib Ali', 'M.Iqbal', 22, 25000, 7, 'University of Agriculture', '20 February 2019', 8]\n",
      "25000\n",
      "8\n"
     ]
    }
   ],
   "source": [
    "studentData = [\"Ali Raza\", 22, 91.24, \"Computer Science\", 5, \"University of Agriculture\"]\n",
    "studentData.append(\"20 February 2019\")               # insert values always in the end by append method\n",
    "studentData.append(8)\n",
    "print(studentData)\n",
    "studentData.insert(4,25000)                          # insert at unique position\n",
    "studentData.insert(-8,\"M.Iqbal\")\n",
    "print(studentData)\n",
    "studentData[0] = \"Zohaib Ali\"                       # Update values\n",
    "studentData[-4] = 7\n",
    "print(studentData)\n",
    "studentData.remove(\"Computer Science\")              # Remove values\n",
    "del studentData[3]                                  # Delete values\n",
    "print(studentData)\n",
    "popval1 = studentData.pop(3)                        # pop values\n",
    "print(popval1)\n",
    "popval2 = studentData.pop(6)\n",
    "print(popval2)\n"
   ]
  },
  {
   "cell_type": "markdown",
   "metadata": {},
   "source": [
    "# Multidimensional list"
   ]
  },
  {
   "cell_type": "code",
   "execution_count": 5,
   "metadata": {},
   "outputs": [
    {
     "name": "stdout",
     "output_type": "stream",
     "text": [
      "Name= Ali     With greater salary from 5000 = 35000 \n",
      "Name= Talha     With greater salary from 5000 = 55000 \n",
      "Name= Nasir     With greater salary from 5000 = 79000 \n",
      "Name= Khalid     With greater salary from 5000 = 44000 \n",
      "Total salary=213000\n"
     ]
    }
   ],
   "source": [
    "employedata = [[\"Ali\", 35000, \"Software Engineer\"],\n",
    "                [\"Talha\", 55000, \"Product Manager\"],[\"Nasir\", 79000, \"Computer Engineer\"],[\"Khalid\", 44000, \"DBA\"]]\n",
    "sal = 0;\n",
    "total_salary = 0\n",
    "for sal in employedata:\n",
    "    salary = sal[1]\n",
    "    total_salary += sal[1]\n",
    "    if salary>=5000:\n",
    "        print(\"\"\"Name= {name}     With greater salary from 5000 = {sal} \"\"\".format(name=sal[0],sal=str(sal[1])))\n",
    "    else:\n",
    "        print(\"Less than\")\n",
    "print(\"Total salary=\"+str(total_salary))    "
   ]
  },
  {
   "cell_type": "markdown",
   "metadata": {},
   "source": [
    "# Multidimension list update "
   ]
  },
  {
   "cell_type": "code",
   "execution_count": 6,
   "metadata": {},
   "outputs": [
    {
     "name": "stdout",
     "output_type": "stream",
     "text": [
      "['Nasir', 90000, 'Computer Engineer']\n"
     ]
    },
    {
     "data": {
      "text/plain": [
       "[['Ali', 35000, 'Software Engineer'],\n",
       " ['Talha', 55000, 'Product Manager'],\n",
       " ['Nasir', 90000, 'Computer Engineer'],\n",
       " ['Khalid', 5000, 'DBA']]"
      ]
     },
     "execution_count": 6,
     "metadata": {},
     "output_type": "execute_result"
    }
   ],
   "source": [
    "employedata = [[\"Ali\", 35000, \"Software Engineer\"],\n",
    "                [\"Talha\", 55000, \"Product Manager\"],[\"Nasir\", 79000, \"Computer Engineer\"],[\"Khalid\", 44000, \"DBA\"]]\n",
    "employedata[2][1] = 90000\n",
    "employedata[2][2],\"product manager\"\n",
    "print(employedata[2])\n",
    "employedata[3][1] = 5000\n",
    "employedata"
   ]
  },
  {
   "cell_type": "markdown",
   "metadata": {},
   "source": [
    "# Login "
   ]
  },
  {
   "cell_type": "code",
   "execution_count": 7,
   "metadata": {},
   "outputs": [
    {
     "name": "stdout",
     "output_type": "stream",
     "text": [
      "enter username=ab\n",
      "enter password=34\n",
      "enter email=fdf@gmail.com\n",
      "incorrect details\n",
      "email is not verified\n"
     ]
    }
   ],
   "source": [
    "username = input(\"enter username=\")\n",
    "password = input(\"enter password=\")\n",
    "email = input(\"enter email=\")\n",
    "if username==\"abc\" and password==\"123\":\n",
    "    print(\"credencials are correct\")\n",
    "    email1==\"abc@gmail.com\"\n",
    "    print(\"email is verified\")    \n",
    "else:\n",
    "    print(\"incorrect details\")\n",
    "    print(\"email is not verified\")\n"
   ]
  },
  {
   "cell_type": "code",
   "execution_count": null,
   "metadata": {},
   "outputs": [],
   "source": []
  }
 ],
 "metadata": {
  "kernelspec": {
   "display_name": "Python 3",
   "language": "python",
   "name": "python3"
  },
  "language_info": {
   "codemirror_mode": {
    "name": "ipython",
    "version": 3
   },
   "file_extension": ".py",
   "mimetype": "text/x-python",
   "name": "python",
   "nbconvert_exporter": "python",
   "pygments_lexer": "ipython3",
   "version": "3.7.4"
  }
 },
 "nbformat": 4,
 "nbformat_minor": 2
}
